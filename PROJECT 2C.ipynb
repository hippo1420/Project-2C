{
 "cells": [
  {
   "cell_type": "markdown",
   "id": "a1618040",
   "metadata": {},
   "source": [
    "# Multiple Sequence Alignment"
   ]
  },
  {
   "cell_type": "code",
   "execution_count": 41,
   "id": "a9a925c4",
   "metadata": {},
   "outputs": [
    {
     "name": "stdout",
     "output_type": "stream",
     "text": [
      "Collecting package metadata (current_repodata.json): done\n",
      "Solving environment: done\n",
      "\n",
      "# All requested packages already installed.\n",
      "\n",
      "\n",
      "Note: you may need to restart the kernel to use updated packages.\n"
     ]
    }
   ],
   "source": [
    "conda install -c bioconda mafft"
   ]
  },
  {
   "cell_type": "code",
   "execution_count": 39,
   "id": "ac5d35be",
   "metadata": {},
   "outputs": [],
   "source": [
    "from Bio.Align.Applications import MafftCommandline"
   ]
  },
  {
   "cell_type": "code",
   "execution_count": 40,
   "id": "08969106",
   "metadata": {},
   "outputs": [
    {
     "name": "stdout",
     "output_type": "stream",
     "text": [
      "mafft WNT.txt\n"
     ]
    }
   ],
   "source": [
    "in_file = \"WNT.txt\"\n",
    "mafft_cline = MafftCommandline(input=in_file)\n",
    "print(mafft_cline)"
   ]
  },
  {
   "cell_type": "code",
   "execution_count": 42,
   "id": "b5a6894c",
   "metadata": {},
   "outputs": [],
   "source": [
    "stdout, stderr = mafft_cline()"
   ]
  },
  {
   "cell_type": "code",
   "execution_count": 43,
   "id": "7d9c96fb",
   "metadata": {},
   "outputs": [
    {
     "name": "stdout",
     "output_type": "stream",
     "text": [
      "Alignment with 20 rows and 1278 columns\n",
      "--------------------------------------------...--- lcl|Wnt1\n",
      "--------------------------------------------...--- lcl|Wnt2\n",
      "--------------------------------------------...--- lcl|Wnt2b\n",
      "------------------------------------------tc...--- lcl|Wnt3\n",
      "tacccaatctggtggtccttggccattggtcaccagtattcttc...--- lcl|Wnt3a\n",
      "--------------------------------------------...--- lcl|Wnt4\n",
      "--------------------------------------------...--- lcl|Wnt5a\n",
      "--------------------------------------------...--- lcl|Wnt5b\n",
      "--------------------------------------------...--- lcl|Wnt6\n",
      "--------------------------------------------...--- lcl|Wnt7a\n",
      "--------------------------------------------...--- lcl|Wnt7b\n",
      "--------------------------------------------...taa lcl|Wnt8a\n",
      "--------------------------------------------...--- lcl|Wnt8b\n",
      "--------------------------------------------...--- lcl|Wnt9a\n",
      "--------------------------------------------...--- lcl|Wnt9b\n",
      "--------------------------------------------...--- lcl|Wnt10a\n",
      "--------------------------------------------...--- lcl|Wnt10b\n",
      "--------------------------------------------...--- lcl|Wnt11\n",
      "--------------------------------------------...--- lcl|Wnt11b\n",
      "--------------------------------------------...--- lcl|Wnt16\n"
     ]
    }
   ],
   "source": [
    "with open(\"aligned.fasta\", \"w\") as handle:\n",
    "    handle.write(stdout)\n",
    "from Bio import AlignIO\n",
    "align = AlignIO.read(\"aligned.fasta\", \"fasta\")\n",
    "print(align)"
   ]
  },
  {
   "cell_type": "markdown",
   "id": "ca9317e7",
   "metadata": {},
   "source": [
    "# Phylogenetic Clustering"
   ]
  },
  {
   "cell_type": "code",
   "execution_count": 2,
   "id": "27b984e6",
   "metadata": {},
   "outputs": [],
   "source": [
    "import Bio\n",
    "from Bio import SeqIO\n",
    "from Bio import Phylo, AlignIO\n",
    "from Bio.Phylo.TreeConstruction import DistanceCalculator, DistanceTreeConstructor"
   ]
  },
  {
   "cell_type": "code",
   "execution_count": 5,
   "id": "1bd91d12",
   "metadata": {},
   "outputs": [
    {
     "name": "stdout",
     "output_type": "stream",
     "text": [
      "Collecting package metadata (current_repodata.json): done\n",
      "Solving environment: done\n",
      "\n",
      "# All requested packages already installed.\n",
      "\n",
      "\n",
      "Note: you may need to restart the kernel to use updated packages.\n"
     ]
    }
   ],
   "source": [
    "conda install -c conda-forge biopython"
   ]
  },
  {
   "cell_type": "code",
   "execution_count": 48,
   "id": "3e214e94",
   "metadata": {},
   "outputs": [],
   "source": [
    "align = AlignIO.read('aligned.fasta', \"fasta\") "
   ]
  },
  {
   "cell_type": "code",
   "execution_count": 49,
   "id": "e4c9e9e1",
   "metadata": {},
   "outputs": [],
   "source": [
    "calculator = DistanceCalculator('identity')\n",
    "distMatrix = calculator.get_distance(align)"
   ]
  },
  {
   "cell_type": "code",
   "execution_count": 50,
   "id": "5a174f07",
   "metadata": {},
   "outputs": [],
   "source": [
    "constructor = DistanceTreeConstructor()\n",
    "Tree = constructor.upgma(distMatrix)"
   ]
  },
  {
   "cell_type": "code",
   "execution_count": 51,
   "id": "91c1e093",
   "metadata": {
    "scrolled": true
   },
   "outputs": [
    {
     "data": {
      "image/png": "[encoded data removed]",
      "text/plain": [
       "<Figure size 432x288 with 1 Axes>"
      ]
     },
     "metadata": {
      "needs_background": "light"
     },
     "output_type": "display_data"
    }
   ],
   "source": [
    "Phylo.draw(Tree)"
   ]
  },
  {
   "cell_type": "code",
   "execution_count": 38,
   "id": "813ce015",
   "metadata": {},
   "outputs": [
    {
     "data": {
      "image/png": "[encoded data removed]",
      "text/plain": [
       "<Figure size 864x432 with 1 Axes>"
      ]
     },
     "metadata": {
      "needs_background": "light"
     },
     "output_type": "display_data"
    }
   ],
   "source": [
    "import matplotlib\n",
    "import matplotlib.pyplot as plt\n",
    "\n",
    "matplotlib.rc('font', size = 8)\n",
    "plt.figure(figsize = (12,6))\n",
    "axes = plt.axes()\n",
    "Phylo.draw(Tree, axes = axes)"
   ]
  },
  {
   "cell_type": "markdown",
   "id": "73b73868",
   "metadata": {},
   "source": [
    "# Structural Bioinformatics"
   ]
  },
  {
   "cell_type": "code",
   "execution_count": 24,
   "id": "a38df2cb",
   "metadata": {},
   "outputs": [],
   "source": [
    "from Bio.PDB import *"
   ]
  },
  {
   "cell_type": "code",
   "execution_count": 25,
   "id": "8729e10c",
   "metadata": {},
   "outputs": [
    {
     "data": {
      "application/vnd.jupyter.widget-view+json": {
       "model_id": "45cdee4c1d444babadecb8fbe1b5bd7b",
       "version_major": 2,
       "version_minor": 0
      },
      "text/plain": []
     },
     "metadata": {},
     "output_type": "display_data"
    }
   ],
   "source": [
    "import nglview as nv"
   ]
  },
  {
   "cell_type": "code",
   "execution_count": 26,
   "id": "4f24de52",
   "metadata": {},
   "outputs": [],
   "source": [
    "parser = PDBParser()"
   ]
  },
  {
   "cell_type": "code",
   "execution_count": 27,
   "id": "18c43cc9",
   "metadata": {
    "scrolled": true
   },
   "outputs": [
    {
     "name": "stdout",
     "output_type": "stream",
     "text": [
      "Collecting package metadata (current_repodata.json): done\n",
      "Solving environment: done\n",
      "\n",
      "# All requested packages already installed.\n",
      "\n",
      "\n",
      "Note: you may need to restart the kernel to use updated packages.\n"
     ]
    }
   ],
   "source": [
    "conda install -c conda-forge py3dmol"
   ]
  },
  {
   "cell_type": "code",
   "execution_count": 29,
   "id": "ee55db3a",
   "metadata": {},
   "outputs": [
    {
     "data": {
      "application/3dmoljs_load.v0": "<div id=\"3dmolviewer_16538842726692202\"  style=\"position: relative; width: 640px; height: 480px\">\n        <p id=\"3dmolwarning_16538842726692202\" style=\"background-color:#ffcccc;color:black\">You appear to be running in JupyterLab (or JavaScript failed to load for some other reason).  You need to install the 3dmol extension: <br>\n        <tt>jupyter labextension install jupyterlab_3dmol</tt></p>\n        </div>\n<script>\n\nvar loadScriptAsync = function(uri){\n  return new Promise((resolve, reject) => {\n    var tag = document.createElement('script');\n    tag.src = uri;\n    tag.async = true;\n    tag.onload = () => {\n      resolve();\n    };\n  var firstScriptTag = document.getElementsByTagName('script')[0];\n  firstScriptTag.parentNode.insertBefore(tag, firstScriptTag);\n});\n};\n\nif(typeof $3Dmolpromise === 'undefined') {\n$3Dmolpromise = null;\n  $3Dmolpromise = loadScriptAsync('https://3dmol.org/build/3Dmol.js');\n}\n\nvar viewer_16538842726692202 = null;\nvar warn = document.getElementById(\"3dmolwarning_16538842726692202\");\nif(warn) {\n    warn.parentNode.removeChild(warn);\n}\n$3Dmolpromise.then(function() {\nviewer_16538842726692202 = $3Dmol.createViewer($(\"#3dmolviewer_16538842726692202\"),{backgroundColor:\"white\"});\n$3Dmol.download(\"pdb:1TEW\", viewer_16538842726692202, {}, function() {\nviewer_16538842726692202.zoomTo();\n\tviewer_16538842726692202.setStyle({\"cartoon\": {\"color\": \"spectrum\"}});\nviewer_16538842726692202.render();\n})\n});\n</script>",
      "text/html": [
       "<div id=\"3dmolviewer_16538842726692202\"  style=\"position: relative; width: 640px; height: 480px\">\n",
       "        <p id=\"3dmolwarning_16538842726692202\" style=\"background-color:#ffcccc;color:black\">You appear to be running in JupyterLab (or JavaScript failed to load for some other reason).  You need to install the 3dmol extension: <br>\n",
       "        <tt>jupyter labextension install jupyterlab_3dmol</tt></p>\n",
       "        </div>\n",
       "<script>\n",
       "\n",
       "var loadScriptAsync = function(uri){\n",
       "  return new Promise((resolve, reject) => {\n",
       "    var tag = document.createElement('script');\n",
       "    tag.src = uri;\n",
       "    tag.async = true;\n",
       "    tag.onload = () => {\n",
       "      resolve();\n",
       "    };\n",
       "  var firstScriptTag = document.getElementsByTagName('script')[0];\n",
       "  firstScriptTag.parentNode.insertBefore(tag, firstScriptTag);\n",
       "});\n",
       "};\n",
       "\n",
       "if(typeof $3Dmolpromise === 'undefined') {\n",
       "$3Dmolpromise = null;\n",
       "  $3Dmolpromise = loadScriptAsync('https://3dmol.org/build/3Dmol.js');\n",
       "}\n",
       "\n",
       "var viewer_16538842726692202 = null;\n",
       "var warn = document.getElementById(\"3dmolwarning_16538842726692202\");\n",
       "if(warn) {\n",
       "    warn.parentNode.removeChild(warn);\n",
       "}\n",
       "$3Dmolpromise.then(function() {\n",
       "viewer_16538842726692202 = $3Dmol.createViewer($(\"#3dmolviewer_16538842726692202\"),{backgroundColor:\"white\"});\n",
       "$3Dmol.download(\"pdb:1TEW\", viewer_16538842726692202, {}, function() {\n",
       "viewer_16538842726692202.zoomTo();\n",
       "\tviewer_16538842726692202.setStyle({\"cartoon\": {\"color\": \"spectrum\"}});\n",
       "viewer_16538842726692202.render();\n",
       "})\n",
       "});\n",
       "</script>"
      ]
     },
     "metadata": {},
     "output_type": "display_data"
    },
    {
     "data": {
      "text/plain": [
       "<py3Dmol.view at 0x7fc289c331f0>"
      ]
     },
     "execution_count": 29,
     "metadata": {},
     "output_type": "execute_result"
    }
   ],
   "source": [
    "import py3Dmol\n",
    "\n",
    "#STRUCTURE OF HEXAGONAL TURKEY EGG WHITE LYSOZYME AT 1.65 ANGSTROMS RESOLUTION\n",
    "view = py3Dmol.view(query='pdb:1TEW')\n",
    "view.setStyle({'cartoon':{'color':'spectrum'}})\n",
    "view"
   ]
  },
  {
   "cell_type": "code",
   "execution_count": 30,
   "id": "67bd215d",
   "metadata": {},
   "outputs": [
    {
     "data": {
      "application/3dmoljs_load.v0": "<div id=\"3dmolviewer_1653884368426305\"  style=\"position: relative; width: 640px; height: 480px\">\n        <p id=\"3dmolwarning_1653884368426305\" style=\"background-color:#ffcccc;color:black\">You appear to be running in JupyterLab (or JavaScript failed to load for some other reason).  You need to install the 3dmol extension: <br>\n        <tt>jupyter labextension install jupyterlab_3dmol</tt></p>\n        </div>\n<script>\n\nvar loadScriptAsync = function(uri){\n  return new Promise((resolve, reject) => {\n    var tag = document.createElement('script');\n    tag.src = uri;\n    tag.async = true;\n    tag.onload = () => {\n      resolve();\n    };\n  var firstScriptTag = document.getElementsByTagName('script')[0];\n  firstScriptTag.parentNode.insertBefore(tag, firstScriptTag);\n});\n};\n\nif(typeof $3Dmolpromise === 'undefined') {\n$3Dmolpromise = null;\n  $3Dmolpromise = loadScriptAsync('https://3dmol.org/build/3Dmol.js');\n}\n\nvar viewer_1653884368426305 = null;\nvar warn = document.getElementById(\"3dmolwarning_1653884368426305\");\nif(warn) {\n    warn.parentNode.removeChild(warn);\n}\n$3Dmolpromise.then(function() {\nviewer_1653884368426305 = $3Dmol.createViewer($(\"#3dmolviewer_1653884368426305\"),{backgroundColor:\"white\"});\n$3Dmol.download(\"pdb:6LYZ\", viewer_1653884368426305, {}, function() {\nviewer_1653884368426305.zoomTo();\n\tviewer_1653884368426305.setStyle({\"cartoon\": {\"color\": \"spectrum\"}});\nviewer_1653884368426305.render();\n})\n});\n</script>",
      "text/html": [
       "<div id=\"3dmolviewer_1653884368426305\"  style=\"position: relative; width: 640px; height: 480px\">\n",
       "        <p id=\"3dmolwarning_1653884368426305\" style=\"background-color:#ffcccc;color:black\">You appear to be running in JupyterLab (or JavaScript failed to load for some other reason).  You need to install the 3dmol extension: <br>\n",
       "        <tt>jupyter labextension install jupyterlab_3dmol</tt></p>\n",
       "        </div>\n",
       "<script>\n",
       "\n",
       "var loadScriptAsync = function(uri){\n",
       "  return new Promise((resolve, reject) => {\n",
       "    var tag = document.createElement('script');\n",
       "    tag.src = uri;\n",
       "    tag.async = true;\n",
       "    tag.onload = () => {\n",
       "      resolve();\n",
       "    };\n",
       "  var firstScriptTag = document.getElementsByTagName('script')[0];\n",
       "  firstScriptTag.parentNode.insertBefore(tag, firstScriptTag);\n",
       "});\n",
       "};\n",
       "\n",
       "if(typeof $3Dmolpromise === 'undefined') {\n",
       "$3Dmolpromise = null;\n",
       "  $3Dmolpromise = loadScriptAsync('https://3dmol.org/build/3Dmol.js');\n",
       "}\n",
       "\n",
       "var viewer_1653884368426305 = null;\n",
       "var warn = document.getElementById(\"3dmolwarning_1653884368426305\");\n",
       "if(warn) {\n",
       "    warn.parentNode.removeChild(warn);\n",
       "}\n",
       "$3Dmolpromise.then(function() {\n",
       "viewer_1653884368426305 = $3Dmol.createViewer($(\"#3dmolviewer_1653884368426305\"),{backgroundColor:\"white\"});\n",
       "$3Dmol.download(\"pdb:6LYZ\", viewer_1653884368426305, {}, function() {\n",
       "viewer_1653884368426305.zoomTo();\n",
       "\tviewer_1653884368426305.setStyle({\"cartoon\": {\"color\": \"spectrum\"}});\n",
       "viewer_1653884368426305.render();\n",
       "})\n",
       "});\n",
       "</script>"
      ]
     },
     "metadata": {},
     "output_type": "display_data"
    },
    {
     "data": {
      "text/plain": [
       "<py3Dmol.view at 0x7fc289c33970>"
      ]
     },
     "execution_count": 30,
     "metadata": {},
     "output_type": "execute_result"
    }
   ],
   "source": [
    "#Real-space refinement of the structure of hen egg-white lysozyme\n",
    "view = py3Dmol.view(query='pdb:6LYZ')\n",
    "view.setStyle({'cartoon':{'color':'spectrum'}})\n",
    "view"
   ]
  },
  {
   "cell_type": "code",
   "execution_count": 32,
   "id": "d470e448",
   "metadata": {},
   "outputs": [
    {
     "data": {
      "application/3dmoljs_load.v0": "<div id=\"3dmolviewer_1653884445137235\"  style=\"position: relative; width: 640px; height: 480px\">\n        <p id=\"3dmolwarning_1653884445137235\" style=\"background-color:#ffcccc;color:black\">You appear to be running in JupyterLab (or JavaScript failed to load for some other reason).  You need to install the 3dmol extension: <br>\n        <tt>jupyter labextension install jupyterlab_3dmol</tt></p>\n        </div>\n<script>\n\nvar loadScriptAsync = function(uri){\n  return new Promise((resolve, reject) => {\n    var tag = document.createElement('script');\n    tag.src = uri;\n    tag.async = true;\n    tag.onload = () => {\n      resolve();\n    };\n  var firstScriptTag = document.getElementsByTagName('script')[0];\n  firstScriptTag.parentNode.insertBefore(tag, firstScriptTag);\n});\n};\n\nif(typeof $3Dmolpromise === 'undefined') {\n$3Dmolpromise = null;\n  $3Dmolpromise = loadScriptAsync('https://3dmol.org/build/3Dmol.js');\n}\n\nvar viewer_1653884445137235 = null;\nvar warn = document.getElementById(\"3dmolwarning_1653884445137235\");\nif(warn) {\n    warn.parentNode.removeChild(warn);\n}\n$3Dmolpromise.then(function() {\nviewer_1653884445137235 = $3Dmol.createViewer($(\"#3dmolviewer_1653884445137235\"),{backgroundColor:\"white\"});\n$3Dmol.download(\"pdb:2ZPO\", viewer_1653884445137235, {}, function() {\nviewer_1653884445137235.zoomTo();\n\tviewer_1653884445137235.setStyle({\"cartoon\": {\"color\": \"spectrum\"}});\nviewer_1653884445137235.render();\n})\n});\n</script>",
      "text/html": [
       "<div id=\"3dmolviewer_1653884445137235\"  style=\"position: relative; width: 640px; height: 480px\">\n",
       "        <p id=\"3dmolwarning_1653884445137235\" style=\"background-color:#ffcccc;color:black\">You appear to be running in JupyterLab (or JavaScript failed to load for some other reason).  You need to install the 3dmol extension: <br>\n",
       "        <tt>jupyter labextension install jupyterlab_3dmol</tt></p>\n",
       "        </div>\n",
       "<script>\n",
       "\n",
       "var loadScriptAsync = function(uri){\n",
       "  return new Promise((resolve, reject) => {\n",
       "    var tag = document.createElement('script');\n",
       "    tag.src = uri;\n",
       "    tag.async = true;\n",
       "    tag.onload = () => {\n",
       "      resolve();\n",
       "    };\n",
       "  var firstScriptTag = document.getElementsByTagName('script')[0];\n",
       "  firstScriptTag.parentNode.insertBefore(tag, firstScriptTag);\n",
       "});\n",
       "};\n",
       "\n",
       "if(typeof $3Dmolpromise === 'undefined') {\n",
       "$3Dmolpromise = null;\n",
       "  $3Dmolpromise = loadScriptAsync('https://3dmol.org/build/3Dmol.js');\n",
       "}\n",
       "\n",
       "var viewer_1653884445137235 = null;\n",
       "var warn = document.getElementById(\"3dmolwarning_1653884445137235\");\n",
       "if(warn) {\n",
       "    warn.parentNode.removeChild(warn);\n",
       "}\n",
       "$3Dmolpromise.then(function() {\n",
       "viewer_1653884445137235 = $3Dmol.createViewer($(\"#3dmolviewer_1653884445137235\"),{backgroundColor:\"white\"});\n",
       "$3Dmol.download(\"pdb:2ZPO\", viewer_1653884445137235, {}, function() {\n",
       "viewer_1653884445137235.zoomTo();\n",
       "\tviewer_1653884445137235.setStyle({\"cartoon\": {\"color\": \"spectrum\"}});\n",
       "viewer_1653884445137235.render();\n",
       "})\n",
       "});\n",
       "</script>"
      ]
     },
     "metadata": {},
     "output_type": "display_data"
    },
    {
     "data": {
      "text/plain": [
       "<py3Dmol.view at 0x7fc289c33850>"
      ]
     },
     "execution_count": 32,
     "metadata": {},
     "output_type": "execute_result"
    }
   ],
   "source": [
    "#Crystal Structure of Green Turtle Egg White Ribonuclease\n",
    "view = py3Dmol.view(query='pdb:2ZPO')\n",
    "view.setStyle({'cartoon':{'color':'spectrum'}})\n",
    "view"
   ]
  },
  {
   "cell_type": "code",
   "execution_count": 33,
   "id": "42e1e632",
   "metadata": {
    "scrolled": true
   },
   "outputs": [
    {
     "data": {
      "application/3dmoljs_load.v0": "<div id=\"3dmolviewer_1653884472057725\"  style=\"position: relative; width: 640px; height: 480px\">\n        <p id=\"3dmolwarning_1653884472057725\" style=\"background-color:#ffcccc;color:black\">You appear to be running in JupyterLab (or JavaScript failed to load for some other reason).  You need to install the 3dmol extension: <br>\n        <tt>jupyter labextension install jupyterlab_3dmol</tt></p>\n        </div>\n<script>\n\nvar loadScriptAsync = function(uri){\n  return new Promise((resolve, reject) => {\n    var tag = document.createElement('script');\n    tag.src = uri;\n    tag.async = true;\n    tag.onload = () => {\n      resolve();\n    };\n  var firstScriptTag = document.getElementsByTagName('script')[0];\n  firstScriptTag.parentNode.insertBefore(tag, firstScriptTag);\n});\n};\n\nif(typeof $3Dmolpromise === 'undefined') {\n$3Dmolpromise = null;\n  $3Dmolpromise = loadScriptAsync('https://3dmol.org/build/3Dmol.js');\n}\n\nvar viewer_1653884472057725 = null;\nvar warn = document.getElementById(\"3dmolwarning_1653884472057725\");\nif(warn) {\n    warn.parentNode.removeChild(warn);\n}\n$3Dmolpromise.then(function() {\nviewer_1653884472057725 = $3Dmol.createViewer($(\"#3dmolviewer_1653884472057725\"),{backgroundColor:\"white\"});\n$3Dmol.download(\"pdb:2GV0\", viewer_1653884472057725, {}, function() {\nviewer_1653884472057725.zoomTo();\n\tviewer_1653884472057725.setStyle({\"cartoon\": {\"color\": \"spectrum\"}});\nviewer_1653884472057725.render();\n})\n});\n</script>",
      "text/html": [
       "<div id=\"3dmolviewer_1653884472057725\"  style=\"position: relative; width: 640px; height: 480px\">\n",
       "        <p id=\"3dmolwarning_1653884472057725\" style=\"background-color:#ffcccc;color:black\">You appear to be running in JupyterLab (or JavaScript failed to load for some other reason).  You need to install the 3dmol extension: <br>\n",
       "        <tt>jupyter labextension install jupyterlab_3dmol</tt></p>\n",
       "        </div>\n",
       "<script>\n",
       "\n",
       "var loadScriptAsync = function(uri){\n",
       "  return new Promise((resolve, reject) => {\n",
       "    var tag = document.createElement('script');\n",
       "    tag.src = uri;\n",
       "    tag.async = true;\n",
       "    tag.onload = () => {\n",
       "      resolve();\n",
       "    };\n",
       "  var firstScriptTag = document.getElementsByTagName('script')[0];\n",
       "  firstScriptTag.parentNode.insertBefore(tag, firstScriptTag);\n",
       "});\n",
       "};\n",
       "\n",
       "if(typeof $3Dmolpromise === 'undefined') {\n",
       "$3Dmolpromise = null;\n",
       "  $3Dmolpromise = loadScriptAsync('https://3dmol.org/build/3Dmol.js');\n",
       "}\n",
       "\n",
       "var viewer_1653884472057725 = null;\n",
       "var warn = document.getElementById(\"3dmolwarning_1653884472057725\");\n",
       "if(warn) {\n",
       "    warn.parentNode.removeChild(warn);\n",
       "}\n",
       "$3Dmolpromise.then(function() {\n",
       "viewer_1653884472057725 = $3Dmol.createViewer($(\"#3dmolviewer_1653884472057725\"),{backgroundColor:\"white\"});\n",
       "$3Dmol.download(\"pdb:2GV0\", viewer_1653884472057725, {}, function() {\n",
       "viewer_1653884472057725.zoomTo();\n",
       "\tviewer_1653884472057725.setStyle({\"cartoon\": {\"color\": \"spectrum\"}});\n",
       "viewer_1653884472057725.render();\n",
       "})\n",
       "});\n",
       "</script>"
      ]
     },
     "metadata": {},
     "output_type": "display_data"
    },
    {
     "data": {
      "text/plain": [
       "<py3Dmol.view at 0x7fc289c334c0>"
      ]
     },
     "execution_count": 33,
     "metadata": {},
     "output_type": "execute_result"
    }
   ],
   "source": [
    "#The structure of the orthorhombic form of soft-shelled turtle lysozyme at 1.9 angstroms resolution\n",
    "view = py3Dmol.view(query='pdb:2GV0')\n",
    "view.setStyle({'cartoon':{'color':'spectrum'}})\n",
    "view"
   ]
  },
  {
   "cell_type": "markdown",
   "id": "579fb2f1",
   "metadata": {},
   "source": [
    "# Sequence Logo"
   ]
  },
  {
   "cell_type": "code",
   "execution_count": 1,
   "id": "00460dea",
   "metadata": {
    "scrolled": true
   },
   "outputs": [
    {
     "name": "stdout",
     "output_type": "stream",
     "text": [
      "Collecting logomaker\n",
      "  Downloading logomaker-0.8-py2.py3-none-any.whl (11.8 MB)\n",
      "\u001b[K     |████████████████████████████████| 11.8 MB 3.8 MB/s eta 0:00:01\n",
      "\u001b[?25hRequirement already satisfied: numpy in /opt/anaconda3/lib/python3.9/site-packages (from logomaker) (1.20.3)\n",
      "Requirement already satisfied: pandas in /opt/anaconda3/lib/python3.9/site-packages (from logomaker) (1.3.4)\n",
      "Requirement already satisfied: matplotlib in /opt/anaconda3/lib/python3.9/site-packages (from logomaker) (3.4.3)\n",
      "Requirement already satisfied: kiwisolver>=1.0.1 in /opt/anaconda3/lib/python3.9/site-packages (from matplotlib->logomaker) (1.3.1)\n",
      "Requirement already satisfied: python-dateutil>=2.7 in /opt/anaconda3/lib/python3.9/site-packages (from matplotlib->logomaker) (2.8.2)\n",
      "Requirement already satisfied: pyparsing>=2.2.1 in /opt/anaconda3/lib/python3.9/site-packages (from matplotlib->logomaker) (3.0.4)\n",
      "Requirement already satisfied: cycler>=0.10 in /opt/anaconda3/lib/python3.9/site-packages (from matplotlib->logomaker) (0.10.0)\n",
      "Requirement already satisfied: pillow>=6.2.0 in /opt/anaconda3/lib/python3.9/site-packages (from matplotlib->logomaker) (8.4.0)\n",
      "Requirement already satisfied: six in /opt/anaconda3/lib/python3.9/site-packages (from cycler>=0.10->matplotlib->logomaker) (1.16.0)\n",
      "Requirement already satisfied: pytz>=2017.3 in /opt/anaconda3/lib/python3.9/site-packages (from pandas->logomaker) (2021.3)\n",
      "Installing collected packages: logomaker\n",
      "Successfully installed logomaker-0.8\n",
      "Note: you may need to restart the kernel to use updated packages.\n"
     ]
    }
   ],
   "source": [
    "pip install logomaker"
   ]
  },
  {
   "cell_type": "code",
   "execution_count": 2,
   "id": "b8077b19",
   "metadata": {},
   "outputs": [],
   "source": [
    "# standard imports\n",
    "import numpy as np\n",
    "import pandas as pd\n",
    "import matplotlib.pyplot as plt\n",
    "\n",
    "# displays logos inline within the notebook;\n",
    "# remove if using a python interpreter instead\n",
    "%matplotlib inline\n",
    "\n",
    "# logomaker import\n",
    "import logomaker"
   ]
  },
  {
   "cell_type": "code",
   "execution_count": 3,
   "id": "24119ba3",
   "metadata": {
    "scrolled": true
   },
   "outputs": [
    {
     "name": "stdout",
     "output_type": "stream",
     "text": [
      "Collecting weblogo\n",
      "  Downloading weblogo-3.7.11-py3-none-any.whl (571 kB)\n",
      "\u001b[K     |████████████████████████████████| 571 kB 4.1 MB/s eta 0:00:01\n",
      "\u001b[?25hRequirement already satisfied: numpy in /opt/anaconda3/lib/python3.9/site-packages (from weblogo) (1.20.3)\n",
      "Requirement already satisfied: setuptools in /opt/anaconda3/lib/python3.9/site-packages (from weblogo) (58.0.4)\n",
      "Requirement already satisfied: scipy in /opt/anaconda3/lib/python3.9/site-packages (from weblogo) (1.7.1)\n",
      "Installing collected packages: weblogo\n",
      "Successfully installed weblogo-3.7.11\n",
      "Note: you may need to restart the kernel to use updated packages.\n"
     ]
    }
   ],
   "source": [
    "pip install weblogo"
   ]
  },
  {
   "cell_type": "code",
   "execution_count": 23,
   "id": "8f6c6d2d",
   "metadata": {
    "scrolled": true
   },
   "outputs": [
    {
     "name": "stdout",
     "output_type": "stream",
     "text": [
      "Requirement already satisfied: biopython in /opt/anaconda3/lib/python3.9/site-packages (1.79)\n",
      "Requirement already satisfied: pandas in /opt/anaconda3/lib/python3.9/site-packages (1.3.4)\n",
      "Collecting seqlogo\n",
      "  Downloading seqlogo-5.29.8.tar.gz (28 kB)\n",
      "Requirement already satisfied: numpy in /opt/anaconda3/lib/python3.9/site-packages (from biopython) (1.20.3)\n",
      "Requirement already satisfied: python-dateutil>=2.7.3 in /opt/anaconda3/lib/python3.9/site-packages (from pandas) (2.8.2)\n",
      "Requirement already satisfied: pytz>=2017.3 in /opt/anaconda3/lib/python3.9/site-packages (from pandas) (2021.3)\n",
      "Requirement already satisfied: weblogo in /opt/anaconda3/lib/python3.9/site-packages (from seqlogo) (3.7.11)\n",
      "Collecting ghostscript\n",
      "  Downloading ghostscript-0.7-py2.py3-none-any.whl (25 kB)\n",
      "Requirement already satisfied: pytest in /opt/anaconda3/lib/python3.9/site-packages (from seqlogo) (6.2.4)\n",
      "Requirement already satisfied: six>=1.5 in /opt/anaconda3/lib/python3.9/site-packages (from python-dateutil>=2.7.3->pandas) (1.16.0)\n",
      "Requirement already satisfied: setuptools>=38.6.0 in /opt/anaconda3/lib/python3.9/site-packages (from ghostscript->seqlogo) (58.0.4)\n",
      "Requirement already satisfied: attrs>=19.2.0 in /opt/anaconda3/lib/python3.9/site-packages (from pytest->seqlogo) (21.2.0)\n",
      "Requirement already satisfied: iniconfig in /opt/anaconda3/lib/python3.9/site-packages (from pytest->seqlogo) (1.1.1)\n",
      "Requirement already satisfied: packaging in /opt/anaconda3/lib/python3.9/site-packages (from pytest->seqlogo) (21.0)\n",
      "Requirement already satisfied: pluggy<1.0.0a1,>=0.12 in /opt/anaconda3/lib/python3.9/site-packages (from pytest->seqlogo) (0.13.1)\n",
      "Requirement already satisfied: py>=1.8.2 in /opt/anaconda3/lib/python3.9/site-packages (from pytest->seqlogo) (1.10.0)\n",
      "Requirement already satisfied: toml in /opt/anaconda3/lib/python3.9/site-packages (from pytest->seqlogo) (0.10.2)\n",
      "Requirement already satisfied: pyparsing>=2.0.2 in /opt/anaconda3/lib/python3.9/site-packages (from packaging->pytest->seqlogo) (3.0.4)\n",
      "Requirement already satisfied: scipy in /opt/anaconda3/lib/python3.9/site-packages (from weblogo->seqlogo) (1.7.1)\n",
      "Building wheels for collected packages: seqlogo\n",
      "  Building wheel for seqlogo (setup.py) ... \u001b[?25ldone\n",
      "\u001b[?25h  Created wheel for seqlogo: filename=seqlogo-5.29.8-py2.py3-none-any.whl size=19419 sha256=efbd11e7ccc0d6f0cfdeef721475e0524990fa435c50c8578a0ecac9c2fad7bc\n",
      "  Stored in directory: /Users/andrewdip/Library/Caches/pip/wheels/70/8d/81/cc8e9e321982bb0443f3362e332258f609c5cc1c0fec61f440\n",
      "Successfully built seqlogo\n",
      "Installing collected packages: ghostscript, seqlogo\n",
      "Successfully installed ghostscript-0.7 seqlogo-5.29.8\n",
      "Note: you may need to restart the kernel to use updated packages.\n"
     ]
    }
   ],
   "source": [
    "pip install biopython pandas seqlogo"
   ]
  }
 ],
 "metadata": {
  "kernelspec": {
   "display_name": "Python 3 (ipykernel)",
   "language": "python",
   "name": "python3"
  },
  "language_info": {
   "codemirror_mode": {
    "name": "ipython",
    "version": 3
   },
   "file_extension": ".py",
   "mimetype": "text/x-python",
   "name": "python",
   "nbconvert_exporter": "python",
   "pygments_lexer": "ipython3",
   "version": "3.9.7"
  }
 },
 "nbformat": 4,
 "nbformat_minor": 5
}
